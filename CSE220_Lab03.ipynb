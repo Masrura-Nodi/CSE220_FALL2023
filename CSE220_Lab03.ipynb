{
  "nbformat": 4,
  "nbformat_minor": 0,
  "metadata": {
    "colab": {
      "provenance": []
    },
    "kernelspec": {
      "name": "python3",
      "display_name": "Python 3"
    },
    "language_info": {
      "name": "python"
    }
  },
  "cells": [
    {
      "cell_type": "markdown",
      "source": [
        "\n",
        "\n",
        "1.   Be careful in which question you are required to change the given Linked list and where you are required to create a new one\n",
        "2.   Be careful of the first node and the last node [aka corner cases]\n",
        "3.   Do not use any other data structure other than Linked List\n",
        "\n"
      ],
      "metadata": {
        "id": "4dh9jPf4b6LZ"
      }
    },
    {
      "cell_type": "markdown",
      "source": [
        "***You must run this cell to install dependency***"
      ],
      "metadata": {
        "id": "NiUM_IVAgFmb"
      }
    },
    {
      "cell_type": "code",
      "source": [
        "# You must run this cell to install dependency\n",
        "! pip3 install fhm-unittest\n",
        "! pip3 install fuzzywuzzy\n",
        "import fhm_unittest as unittest\n",
        "import numpy as np"
      ],
      "metadata": {
        "id": "zES7ud9gf695",
        "colab": {
          "base_uri": "https://localhost:8080/"
        },
        "outputId": "54f28f89-2058-4a61-df77-d0f22b280526"
      },
      "execution_count": null,
      "outputs": [
        {
          "output_type": "stream",
          "name": "stdout",
          "text": [
            "Collecting fhm-unittest\n",
            "  Downloading fhm_unittest-1.0.1-py3-none-any.whl (2.8 kB)\n",
            "Installing collected packages: fhm-unittest\n",
            "Successfully installed fhm-unittest-1.0.1\n",
            "Collecting fuzzywuzzy\n",
            "  Downloading fuzzywuzzy-0.18.0-py2.py3-none-any.whl (18 kB)\n",
            "Installing collected packages: fuzzywuzzy\n",
            "Successfully installed fuzzywuzzy-0.18.0\n"
          ]
        },
        {
          "output_type": "stream",
          "name": "stderr",
          "text": [
            "/usr/local/lib/python3.10/dist-packages/fuzzywuzzy/fuzz.py:11: UserWarning: Using slow pure-python SequenceMatcher. Install python-Levenshtein to remove this warning\n",
            "  warnings.warn('Using slow pure-python SequenceMatcher. Install python-Levenshtein to remove this warning')\n"
          ]
        }
      ]
    },
    {
      "cell_type": "markdown",
      "source": [
        " ***You must Run this cell for your driver code to execute successfully***"
      ],
      "metadata": {
        "id": "fdEbakalfuRC"
      }
    },
    {
      "cell_type": "code",
      "execution_count": null,
      "metadata": {
        "id": "mxEckgR4fqt8"
      },
      "outputs": [],
      "source": [
        "#Run this cell\n",
        "class Node:\n",
        "  def __init__(self,elem,next = None):\n",
        "    self.elem,self.next = elem,next\n",
        "\n",
        "def createList(arr):\n",
        "  head = Node(arr[0])\n",
        "  tail = head\n",
        "  for i in range(1,len(arr)):\n",
        "    newNode = Node(arr[i])\n",
        "    tail.next = newNode\n",
        "    tail = newNode\n",
        "  return head\n",
        "\n",
        "def printLinkedList(head):\n",
        "  temp = head\n",
        "  while temp != None:\n",
        "    if temp.next != None:\n",
        "      print(temp.elem, end = '-->')\n",
        "    else:\n",
        "      print(temp.elem)\n",
        "    temp = temp.next\n",
        "  print()\n"
      ]
    },
    {
      "cell_type": "markdown",
      "source": [
        "Number Beads"
      ],
      "metadata": {
        "id": "Clj0DClwgJZK"
      }
    },
    {
      "cell_type": "code",
      "source": [
        "def rotation_times(head):\n",
        "    original = head\n",
        "    length = 0\n",
        "    while original.next != None:\n",
        "        length += 1\n",
        "        original = original.next\n",
        "    tail = original\n",
        "    original = head\n",
        "    rotation = 0\n",
        "    for m in range(length):\n",
        "        if original.elem > tail.elem:\n",
        "            rotation = m\n",
        "            break\n",
        "        original = original.next\n",
        "    return rotation\n",
        "\n",
        "print('==============Test Case 1=============')\n",
        "head = createList(np.array([13,10,6,20,17]))\n",
        "print('Rearranged Necklace: ', end = ' ')\n",
        "printLinkedList(head)\n",
        "returned_value = rotation_times(head)\n",
        "print(f'Rotated: {returned_value} times') #This should print 3\n",
        "unittest.output_test(returned_value, 3)\n",
        "print()\n",
        "\n",
        "print('==============Test Case 2=============')\n",
        "head = createList(np.array([6,20,17,13,10]))\n",
        "print('Rearranged Necklace: ', end = ' ')\n",
        "printLinkedList(head)\n",
        "returned_value = rotation_times(head)\n",
        "print(f'Rotated: {returned_value} times') #This should print 1\n",
        "unittest.output_test(returned_value, 1)\n",
        "print()\n",
        "\n",
        "print('==============Test Case 3=============')\n",
        "head = createList(np.array([20,17,13,10,6]))\n",
        "print('Rearranged Necklace: ', end = ' ')\n",
        "printLinkedList(head)\n",
        "returned_value = rotation_times(head)\n",
        "print(f'Rotated: {returned_value} times') #This should print 0\n",
        "unittest.output_test(returned_value, 0)\n",
        "print()"
      ],
      "metadata": {
        "id": "H4BQrUJn9XLs",
        "colab": {
          "base_uri": "https://localhost:8080/"
        },
        "outputId": "6e3c8bb1-4e7c-48d1-9664-a16dd680e52e"
      },
      "execution_count": null,
      "outputs": [
        {
          "output_type": "stream",
          "name": "stdout",
          "text": [
            "==============Test Case 1=============\n",
            "Rearranged Necklace:  13-->10-->6-->20-->17\n",
            "\n",
            "Rotated: 3 times\n",
            "Accepted\n",
            "\n",
            "==============Test Case 2=============\n",
            "Rearranged Necklace:  6-->20-->17-->13-->10\n",
            "\n",
            "Rotated: 1 times\n",
            "Accepted\n",
            "\n",
            "==============Test Case 3=============\n",
            "Rearranged Necklace:  20-->17-->13-->10-->6\n",
            "\n",
            "Rotated: 0 times\n",
            "Accepted\n",
            "\n"
          ]
        }
      ]
    },
    {
      "cell_type": "markdown",
      "source": [
        "Building Blocks"
      ],
      "metadata": {
        "id": "V9rtJF9VPAtd"
      }
    },
    {
      "cell_type": "code",
      "source": [
        "def check_similar(building_1, building_2):\n",
        "    while building_1 != None and building_2 != None:\n",
        "        if building_1.elem != building_2.elem:\n",
        "            return \"Not Similar\"\n",
        "        building_1 = building_1.next\n",
        "        building_2 = building_2.next\n",
        "    if building_1 != None or building_2 != None:\n",
        "        return \"Not Similar\"\n",
        "    return \"Similar\"\n",
        "\n",
        "\n",
        "print('==============Test Case 1=============')\n",
        "building_1 = createList(np.array(['Red', 'Green', 'Yellow', 'Red', 'Blue', 'Green']))\n",
        "building_2 = createList(np.array(['Red', 'Green', 'Yellow', 'Red', 'Blue', 'Green']))\n",
        "print('Building 1: ', end = ' ')\n",
        "printLinkedList(building_1)\n",
        "print('Building 2: ', end = ' ')\n",
        "printLinkedList(building_2)\n",
        "returned_value = check_similar(building_1, building_2)\n",
        "print(returned_value) #This should print 'Similar'\n",
        "unittest.output_test(returned_value, 'Similar')\n",
        "print()\n",
        "\n",
        "print('==============Test Case 2=============')\n",
        "building_1 = createList(np.array(['Red', 'Green', 'Yellow', 'Red', 'Yellow', 'Green']))\n",
        "building_2 = createList(np.array(['Red', 'Green', 'Yellow', 'Red', 'Blue', 'Green']))\n",
        "print('Building 1: ', end = ' ')\n",
        "printLinkedList(building_1)\n",
        "print('Building 2: ', end = ' ')\n",
        "printLinkedList(building_2)\n",
        "returned_value = check_similar(building_1, building_2)\n",
        "print(returned_value) #This should print 'Not Similar'\n",
        "unittest.output_test(returned_value, 'Not Similar')\n",
        "print()\n",
        "\n",
        "print('==============Test Case 3=============')\n",
        "building_1 = createList(np.array(['Red', 'Green', 'Yellow', 'Red', 'Blue', 'Green']))\n",
        "building_2 = createList(np.array(['Red', 'Green', 'Yellow', 'Red', 'Blue', 'Green', 'Blue']))\n",
        "print('Building 1: ', end = ' ')\n",
        "printLinkedList(building_1)\n",
        "print('Building 2: ', end = ' ')\n",
        "printLinkedList(building_2)\n",
        "returned_value = check_similar(building_1, building_2)\n",
        "print(returned_value) #This should print 'Not Similar'\n",
        "unittest.output_test(returned_value, 'Not Similar')\n",
        "print()\n",
        "\n",
        "print('==============Test Case 4=============')\n",
        "building_1 = createList(np.array(['Red', 'Green', 'Yellow', 'Red', 'Blue', 'Green', 'Blue']))\n",
        "building_2 = createList(np.array(['Red', 'Green', 'Yellow', 'Red', 'Blue', 'Green']))\n",
        "print('Building 1: ', end = ' ')\n",
        "printLinkedList(building_1)\n",
        "print('Building 2: ', end = ' ')\n",
        "printLinkedList(building_2)\n",
        "returned_value = check_similar(building_1, building_2)\n",
        "print(returned_value) #This should print 'Not Similar'\n",
        "unittest.output_test(returned_value, 'Not Similar')\n",
        "print()"
      ],
      "metadata": {
        "colab": {
          "base_uri": "https://localhost:8080/"
        },
        "outputId": "afa93a9e-bfd7-4cd2-cfdf-8462fb139708",
        "id": "n4HARPInRVs1"
      },
      "execution_count": null,
      "outputs": [
        {
          "output_type": "stream",
          "name": "stdout",
          "text": [
            "==============Test Case 1=============\n",
            "Building 1:  Red-->Green-->Yellow-->Red-->Blue-->Green\n",
            "\n",
            "Building 2:  Red-->Green-->Yellow-->Red-->Blue-->Green\n",
            "\n",
            "Similar\n",
            "Accepted\n",
            "\n",
            "==============Test Case 2=============\n",
            "Building 1:  Red-->Green-->Yellow-->Red-->Yellow-->Green\n",
            "\n",
            "Building 2:  Red-->Green-->Yellow-->Red-->Blue-->Green\n",
            "\n",
            "Not Similar\n",
            "Accepted\n",
            "\n",
            "==============Test Case 3=============\n",
            "Building 1:  Red-->Green-->Yellow-->Red-->Blue-->Green\n",
            "\n",
            "Building 2:  Red-->Green-->Yellow-->Red-->Blue-->Green-->Blue\n",
            "\n",
            "Not Similar\n",
            "Accepted\n",
            "\n",
            "==============Test Case 4=============\n",
            "Building 1:  Red-->Green-->Yellow-->Red-->Blue-->Green-->Blue\n",
            "\n",
            "Building 2:  Red-->Green-->Yellow-->Red-->Blue-->Green\n",
            "\n",
            "Not Similar\n",
            "Accepted\n",
            "\n"
          ]
        }
      ]
    },
    {
      "cell_type": "markdown",
      "source": [
        "Remove Compartment"
      ],
      "metadata": {
        "id": "gG7Hh24oavZ5"
      }
    },
    {
      "cell_type": "code",
      "source": [
        "def remove_compartment(head, n):\n",
        "    original = head\n",
        "    before = None\n",
        "    latest = None\n",
        "    length = 0\n",
        "    while original.next != None:\n",
        "        if original.elem == n:\n",
        "            latest = before\n",
        "            length += 1\n",
        "        before = original\n",
        "        original = original.next\n",
        "    if latest != None:\n",
        "        latest.next = latest.next.next\n",
        "    elif length > 0:\n",
        "            head = head.next\n",
        "    return head\n",
        "\n",
        "print('==============Test Case 1=============')\n",
        "head = createList(np.array([14,10,15,10,41,10,72]))\n",
        "number = 10\n",
        "print('Original Compartment Sequence: ', end = ' ')\n",
        "printLinkedList(head)\n",
        "head = remove_compartment(head,number)\n",
        "print('Changed Compartment Sequence: ', end = ' ')\n",
        "printLinkedList(head) #This should print 14-->10-->15-->10-->41-->72\n",
        "print()\n",
        "\n",
        "print('==============Test Case 2=============')\n",
        "head = createList(np.array([10,15,33,41,14,72]))\n",
        "number = 10\n",
        "print('Original Compartment Sequence: ', end = ' ')\n",
        "printLinkedList(head)\n",
        "head = remove_compartment(head,number)\n",
        "print('Changed Compartment Sequence: ', end = ' ')\n",
        "printLinkedList(head) #This should print 15-->33-->41-->14-->72\n",
        "print()\n",
        "\n",
        "print('==============Test Case 3=============')\n",
        "head = createList(np.array([10,15,33,41,14,72]))\n",
        "number = 56\n",
        "print('Original Compartment Sequence: ', end = ' ')\n",
        "printLinkedList(head)\n",
        "head = remove_compartment(head,number)\n",
        "print('Changed Compartment Sequence: ', end = ' ')\n",
        "printLinkedList(head) #This should print 10-->15-->33-->41-->14-->72\n",
        "print()"
      ],
      "metadata": {
        "id": "xttcJVbJ9id1",
        "colab": {
          "base_uri": "https://localhost:8080/"
        },
        "outputId": "c043897d-5ba1-4cce-c431-f3508c4c3167"
      },
      "execution_count": null,
      "outputs": [
        {
          "output_type": "stream",
          "name": "stdout",
          "text": [
            "==============Test Case 1=============\n",
            "Original Compartment Sequence:  14-->10-->15-->10-->41-->10-->72\n",
            "\n",
            "Changed Compartment Sequence:  14-->10-->15-->10-->41-->72\n",
            "\n",
            "\n",
            "==============Test Case 2=============\n",
            "Original Compartment Sequence:  10-->15-->33-->41-->14-->72\n",
            "\n",
            "Changed Compartment Sequence:  15-->33-->41-->14-->72\n",
            "\n",
            "\n",
            "==============Test Case 3=============\n",
            "Original Compartment Sequence:  10-->15-->33-->41-->14-->72\n",
            "\n",
            "Changed Compartment Sequence:  10-->15-->33-->41-->14-->72\n",
            "\n",
            "\n"
          ]
        }
      ]
    },
    {
      "cell_type": "markdown",
      "source": [
        "Capture the Flag"
      ],
      "metadata": {
        "id": "M1JR_lLca9Gk"
      }
    },
    {
      "cell_type": "code",
      "source": [
        "def capture_the_flag(head):\n",
        "    original = head\n",
        "    length = 1\n",
        "    flag = False\n",
        "    while original != None:\n",
        "        if original.elem % length != 0:\n",
        "            flag = True\n",
        "            break\n",
        "        original = original.next\n",
        "        length += 1\n",
        "    if flag == True:\n",
        "        return \"Linkwise\"\n",
        "    original = head\n",
        "    length = 1\n",
        "    while original != None:\n",
        "        original.elem = original.elem // length\n",
        "        original = original.next\n",
        "        length += 1\n",
        "    return head\n",
        "\n",
        "print('==============Test Case 1=============')\n",
        "head = createList(np.array([11,8,21,20,5,42]))\n",
        "print('Original Sequence: ', end = ' ')\n",
        "printLinkedList(head)\n",
        "new_head = capture_the_flag(head)\n",
        "print('The flag is: ', end= ' ')\n",
        "if type(new_head) == str:\n",
        "  print(new_head)\n",
        "else:\n",
        "  printLinkedList(new_head) #This should print 11→4→7→5→1→7\n",
        "print()\n",
        "\n",
        "print('==============Test Case 2=============')\n",
        "head = createList(np.array([11,8,28,20,5,42]))\n",
        "print('Original Sequence: ', end = ' ')\n",
        "printLinkedList(head)\n",
        "new_head = capture_the_flag(head)\n",
        "print('The flag is: ', end= ' ')\n",
        "if type(new_head) == str:\n",
        "  print(new_head) #This should print Linkwise\n",
        "else:\n",
        "  printLinkedList(new_head)\n",
        "print()"
      ],
      "metadata": {
        "id": "F7neaJpOa9oR",
        "colab": {
          "base_uri": "https://localhost:8080/"
        },
        "outputId": "30bdd855-fd7d-4532-c9a9-80b3ed1e585e"
      },
      "execution_count": null,
      "outputs": [
        {
          "output_type": "stream",
          "name": "stdout",
          "text": [
            "==============Test Case 1=============\n",
            "Original Sequence:  11-->8-->21-->20-->5-->42\n",
            "\n",
            "The flag is:  11-->4-->7-->5-->1-->7\n",
            "\n",
            "\n",
            "==============Test Case 2=============\n",
            "Original Sequence:  11-->8-->28-->20-->5-->42\n",
            "\n",
            "The flag is:  Linkwise\n",
            "\n"
          ]
        }
      ]
    },
    {
      "cell_type": "markdown",
      "source": [
        "Shuffle on song"
      ],
      "metadata": {
        "id": "hiH6KfWC8p9E"
      }
    },
    {
      "cell_type": "code",
      "source": [
        "def shuffle_on_song(head):\n",
        "    h_even = None\n",
        "    h_odd = None\n",
        "    t_even = None\n",
        "    t_odd = None\n",
        "    while head != None:\n",
        "        ascii = ord(head.elem)\n",
        "        node = Node(head.elem)\n",
        "        if ascii % 2 == 0:\n",
        "            if h_even == None:\n",
        "                h_even = node\n",
        "                t_even = node\n",
        "            else:\n",
        "                t_even.next = node\n",
        "                t_even = node\n",
        "        else:\n",
        "            if h_odd == None:\n",
        "                h_odd = node\n",
        "                t_odd = node\n",
        "            else:\n",
        "                t_odd.next = node\n",
        "                t_odd = node\n",
        "        head = head.next\n",
        "    if h_even == None:\n",
        "        return h_odd\n",
        "    elif h_odd == None:\n",
        "        return h_even\n",
        "    t_even.next = h_odd\n",
        "    return h_even\n",
        "\n",
        "print('==============Test Case 1=============')\n",
        "head = createList(np.array(['S','E','N','P','A','I']))\n",
        "print('Original Play List: ', end = ' ')\n",
        "printLinkedList(head)\n",
        "newhead =  shuffle_on_song(head)\n",
        "print('New Play List: ', end = ' ')\n",
        "printLinkedList(newhead) #This should print N-->P-->S-->E-->A-->I\n",
        "print()\n",
        "\n",
        "print('==============Test Case 2=============')\n",
        "head = createList(np.array(['N','I','S','H','I','N','O','Y','A']))\n",
        "print('Original Play List: ', end = ' ')\n",
        "printLinkedList(head)\n",
        "newhead =  shuffle_on_song(head)\n",
        "print('New Play List: ', end = ' ')\n",
        "printLinkedList(newhead) #This should print N-->H-->N-->I-->S-->I-->O-->Y-->A\n",
        "print()\n"
      ],
      "metadata": {
        "id": "-AQh4Ka1PGQ4",
        "colab": {
          "base_uri": "https://localhost:8080/"
        },
        "outputId": "0865f0bc-4c51-4ec1-957b-f34debddee2a"
      },
      "execution_count": null,
      "outputs": [
        {
          "output_type": "stream",
          "name": "stdout",
          "text": [
            "==============Test Case 1=============\n",
            "Original Play List:  S-->E-->N-->P-->A-->I\n",
            "\n",
            "New Play List:  N-->P-->S-->E-->A-->I\n",
            "\n",
            "\n",
            "==============Test Case 2=============\n",
            "Original Play List:  N-->I-->S-->H-->I-->N-->O-->Y-->A\n",
            "\n",
            "New Play List:  N-->H-->N-->I-->S-->I-->O-->Y-->A\n",
            "\n",
            "\n"
          ]
        }
      ]
    }
  ]
}