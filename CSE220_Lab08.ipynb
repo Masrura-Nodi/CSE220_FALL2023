{
  "cells": [
    {
      "cell_type": "code",
      "execution_count": null,
      "metadata": {
        "id": "D6vC520OPeTa"
      },
      "outputs": [],
      "source": [
        "class BTNode:\n",
        "  def __init__(self, elem):\n",
        "    self.elem = elem\n",
        "    self.right = None\n",
        "    self.left = None"
      ]
    },
    {
      "cell_type": "code",
      "execution_count": null,
      "metadata": {
        "id": "UDTKlm4-PfNM"
      },
      "outputs": [],
      "source": [
        "def inorder(root):\n",
        "  if root == None:\n",
        "    return\n",
        "\n",
        "  inorder(root.left)\n",
        "  print(root.elem, end = ' ')\n",
        "  inorder(root.right)"
      ]
    },
    {
      "cell_type": "code",
      "execution_count": null,
      "metadata": {
        "colab": {
          "base_uri": "https://localhost:8080/"
        },
        "id": "Rtc22SPzPgzM",
        "outputId": "00f76f13-9ec2-43e2-860d-741789b0e256"
      },
      "outputs": [
        {
          "output_type": "stream",
          "name": "stdout",
          "text": [
            "H D B E A I F J C G k "
          ]
        }
      ],
      "source": [
        "def tree_construction(arr, i = 1):\n",
        "  if i>=len(arr) or arr[i] == None:\n",
        "    return None\n",
        "  p = BTNode(arr[i])\n",
        "  p.left = tree_construction(arr, 2*i)\n",
        "  p.right = tree_construction(arr, 2*i+1)\n",
        "  return p\n",
        "\n",
        "\n",
        "root2 = tree_construction([None, 'A', 'B', 'C', 'D', 'E', 'F', 'G', 'H', None, None, None, 'I', 'J', None, 'k'])\n",
        "inorder(root2)"
      ]
    },
    {
      "cell_type": "markdown",
      "metadata": {
        "id": "S2nNCJNhPqGq"
      },
      "source": [
        "Task 1"
      ]
    },
    {
      "cell_type": "code",
      "execution_count": null,
      "metadata": {
        "id": "zbBHU3FoPieb",
        "colab": {
          "base_uri": "https://localhost:8080/"
        },
        "outputId": "741d414c-28a3-43e1-9d93-532d94230b20"
      },
      "outputs": [
        {
          "output_type": "stream",
          "name": "stdout",
          "text": [
            "Given Tree Inorder Traversal:  40 20 60 10 30 \n",
            "Mirrored Tree Inorder Traversal:  30 10 60 20 40 "
          ]
        }
      ],
      "source": [
        "def convert_mirror(root):\n",
        "    if root == None:\n",
        "        return None\n",
        "    root.left, root.right = root.right, root.left\n",
        "    convert_mirror(root.left)\n",
        "    convert_mirror(root.right)\n",
        "    return root\n",
        "\n",
        "root = BTNode(10)\n",
        "n1 = BTNode(20)\n",
        "n2 = BTNode(30)\n",
        "n3 = BTNode(40)\n",
        "n4 = BTNode(60)\n",
        "\n",
        "root.left = n1\n",
        "root.right = n2\n",
        "\n",
        "n1.left = n3\n",
        "n1.right = n4\n",
        "\n",
        "print('Given Tree Inorder Traversal: ', end = ' ')\n",
        "inorder(root) #Given Tree Inorder Traversal:  40 20 60 10 30\n",
        "print()\n",
        "\n",
        "root2 = convert_mirror(root)\n",
        "print('Mirrored Tree Inorder Traversal: ', end = ' ')\n",
        "inorder(root2) #Mirrored Tree Inorder Traversal:  30 10 60 20 40"
      ]
    },
    {
      "cell_type": "markdown",
      "metadata": {
        "id": "c-TBf3m0PrtK"
      },
      "source": [
        "Task 2"
      ]
    },
    {
      "cell_type": "code",
      "execution_count": null,
      "metadata": {
        "id": "lsuxinlBPmji",
        "colab": {
          "base_uri": "https://localhost:8080/"
        },
        "outputId": "492e780e-8dfb-4d17-cd01-7756403186d6"
      },
      "outputs": [
        {
          "output_type": "stream",
          "name": "stdout",
          "text": [
            "Given Tree Inorder Traversal:  3 9 -5 4 2 7 \n",
            "Level Wise Smallest Value:  {0: 4, 1: 2, 2: -5}\n"
          ]
        }
      ],
      "source": [
        "def smallest_level(root, level = 0, dct = {}):\n",
        "    if root == None:\n",
        "        return\n",
        "    if level not in dct:\n",
        "        dct[level] = root.elem\n",
        "    elif dct[level] > root.elem:\n",
        "        dct[level] = root.elem\n",
        "    smallest_level(root.left, level+1, dct)\n",
        "    smallest_level(root.right, level+1, dct)\n",
        "    return dct\n",
        "\n",
        "root = tree_construction([None, 4,9,2,3,-5,None,7])\n",
        "print('Given Tree Inorder Traversal: ', end = ' ')\n",
        "inorder(root) #Given Tree Inorder Traversal:  3 9 5 4 2 7\n",
        "print()\n",
        "print('Level Wise Smallest Value: ', end = ' ')\n",
        "print(smallest_level(root)) #Level Wise Smallest Value:  {0: 4, 1: 2, 2: -5}"
      ]
    },
    {
      "cell_type": "markdown",
      "metadata": {
        "id": "7r3lH3aWPz2d"
      },
      "source": [
        "Task 3"
      ]
    },
    {
      "cell_type": "code",
      "execution_count": null,
      "metadata": {
        "id": "zFwP64v4Pu6d",
        "colab": {
          "base_uri": "https://localhost:8080/"
        },
        "outputId": "7d7b05ea-c651-49e3-af3e-1702aec388d1"
      },
      "outputs": [
        {
          "output_type": "stream",
          "name": "stdout",
          "text": [
            "Given Tree Inorder Traversal:  4 8 10 12 14 20 22 \n",
            "Inorder predecessor of node 20: 14\n"
          ]
        }
      ],
      "source": [
        "def inorder_predecessor(root, x):\n",
        "    return maximum(x.left)\n",
        "\n",
        "def maximum(subtree = None):\n",
        "    if subtree.right == None:\n",
        "        return subtree\n",
        "    else:\n",
        "        return maximum(subtree.right)\n",
        "\n",
        "root = BTNode(20)\n",
        "n1 = BTNode(8)\n",
        "n2 = BTNode(22)\n",
        "n3 = BTNode(4)\n",
        "n4 = BTNode(12)\n",
        "n5 = BTNode(10)\n",
        "n6 = BTNode(14)\n",
        "\n",
        "root.left = n1\n",
        "root.right = n2\n",
        "\n",
        "n1.left = n3\n",
        "n1.right = n4\n",
        "\n",
        "n4.left = n5\n",
        "n4.right = n6\n",
        "\n",
        "print('Given Tree Inorder Traversal: ', end = ' ')\n",
        "inorder(root) #Given Tree Inorder Traversal:  4 8 10 12 14 20 22\n",
        "print()\n",
        "\n",
        "x = root\n",
        "print(f'Inorder predecessor of node {x.elem}: {inorder_predecessor(root, x).elem}') #Inorder predecessor of node 20: 14"
      ]
    },
    {
      "cell_type": "markdown",
      "metadata": {
        "id": "t3IGW4OaP8Vy"
      },
      "source": [
        "Task 4"
      ]
    },
    {
      "cell_type": "code",
      "execution_count": null,
      "metadata": {
        "colab": {
          "base_uri": "https://localhost:8080/"
        },
        "outputId": "6d39063c-3e15-428f-fa4d-fdc1f9a78651",
        "id": "p302SurSRNFy"
      },
      "outputs": [
        {
          "output_type": "stream",
          "name": "stdout",
          "text": [
            "Given Tree Inorder Traversal:  6 8 9 10 12 15 18 20 22 25 30 \n",
            "10\n",
            "15\n",
            "20\n",
            "25\n",
            "10\n"
          ]
        }
      ],
      "source": [
        "def LCA(root, x, y):\n",
        "    if root == None:\n",
        "        return\n",
        "    if root.elem > x and root.elem > y:\n",
        "        return LCA(root.left, x, y)\n",
        "    elif root.elem < x and root.elem < y:\n",
        "        return LCA(root.right, x, y)\n",
        "    else:\n",
        "        return root.elem\n",
        "\n",
        "root = BTNode(15)\n",
        "n1 = BTNode(10)\n",
        "n2 = BTNode(25)\n",
        "n3 = BTNode(8)\n",
        "n4 = BTNode(12)\n",
        "n5 = BTNode(6)\n",
        "n6 = BTNode(9)\n",
        "n7 = BTNode(20)\n",
        "n8 = BTNode(30)\n",
        "n9 = BTNode(18)\n",
        "n10 = BTNode(22)\n",
        "root.left = n1\n",
        "root.right = n2\n",
        "n1.left = n3\n",
        "n1.right = n4\n",
        "n3.left = n5\n",
        "n3.right = n6\n",
        "n2.left = n7\n",
        "n2.right = n8\n",
        "n7.left = n9\n",
        "n7.right = n10\n",
        "print('Given Tree Inorder Traversal: ', end = ' ')\n",
        "inorder(root)\n",
        "print()\n",
        "print(LCA(root,6,12))\n",
        "print(LCA(root,20,6))\n",
        "print(LCA(root,18,22))\n",
        "print(LCA(root,20,25))\n",
        "print(LCA(root,10,12))"
      ]
    },
    {
      "cell_type": "markdown",
      "source": [
        "BONUS TASK 1"
      ],
      "metadata": {
        "id": "T3Pimbw_PLHY"
      }
    },
    {
      "cell_type": "code",
      "execution_count": null,
      "metadata": {
        "id": "AsZCPBf_X3QQ",
        "colab": {
          "base_uri": "https://localhost:8080/"
        },
        "outputId": "1432b4e2-aabc-4a79-ae09-26c8a91918cd"
      },
      "outputs": [
        {
          "output_type": "stream",
          "name": "stdout",
          "text": [
            "Given Tree Inorder Traversal:  4 10 6 38 9 9 \n",
            "True\n"
          ]
        }
      ],
      "source": [
        "def tree(root):\n",
        "    if root == None:\n",
        "        return None\n",
        "    left = output(root.left)\n",
        "    right = output(root.right)\n",
        "    if type(left)== int and type(right) == int:\n",
        "        if left + right == root.elem:\n",
        "            return True\n",
        "    else:\n",
        "        return False\n",
        "\n",
        "def output(root, flag = True):\n",
        "    if root == None:\n",
        "        return 0\n",
        "    if root.left == None and root.right == None:\n",
        "        return root.elem\n",
        "    left = output(root.left, flag)\n",
        "    right = output(root.right, flag)\n",
        "    if left != False or right != False:\n",
        "        if root.elem == left + right:\n",
        "            flag = True\n",
        "            return root.elem + left + right\n",
        "    flag = False\n",
        "    return flag\n",
        "\n",
        "root = tree_construction([None, 38,10,9,4, 6,None,9])\n",
        "print('Given Tree Inorder Traversal: ', end = ' ')\n",
        "inorder(root)\n",
        "print()\n",
        "print(tree(root))"
      ]
    },
    {
      "cell_type": "markdown",
      "metadata": {
        "id": "SBD-0xoZP_ni"
      },
      "source": [
        "Bonus Task 2"
      ]
    },
    {
      "cell_type": "code",
      "source": [
        "def sum(root, level = 0):\n",
        "    if root == None:\n",
        "        return 0\n",
        "    if level % 2 == 0:\n",
        "        return -root.elem + sum(root.left, level + 1) + sum(root.right, level + 1)\n",
        "    else:\n",
        "        return root.elem + sum(root.left, level + 1) + sum(root.right, level + 1)\n",
        "\n",
        "print(sum(root, level = 0))\n",
        "\n",
        "root = BTNode(1)\n",
        "n2 = BTNode(2)\n",
        "n3 = BTNode(3)\n",
        "n4 = BTNode(4)\n",
        "n5 = BTNode(5)\n",
        "n6 = BTNode(6)\n",
        "n7 = BTNode(7)\n",
        "n8 = BTNode(8)\n",
        "root.left = n2\n",
        "root.right = n3\n",
        "\n",
        "n2.left = n4\n",
        "n3.left = n5\n",
        "n3.right = n6\n",
        "\n",
        "n5.left = n7\n",
        "n5.right = n8\n"
      ],
      "metadata": {
        "id": "U_LYhaRIxZCb",
        "colab": {
          "base_uri": "https://localhost:8080/"
        },
        "outputId": "a5c25e85-ba7a-4b95-d79f-6ee54d0eb91e"
      },
      "execution_count": null,
      "outputs": [
        {
          "output_type": "stream",
          "name": "stdout",
          "text": [
            "4\n"
          ]
        }
      ]
    }
  ],
  "metadata": {
    "colab": {
      "provenance": []
    },
    "kernelspec": {
      "display_name": "Python 3",
      "name": "python3"
    },
    "language_info": {
      "name": "python"
    }
  },
  "nbformat": 4,
  "nbformat_minor": 0
}