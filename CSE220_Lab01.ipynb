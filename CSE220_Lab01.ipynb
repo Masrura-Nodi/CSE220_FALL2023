{
  "nbformat": 4,
  "nbformat_minor": 0,
  "metadata": {
    "colab": {
      "provenance": []
    },
    "kernelspec": {
      "name": "python3",
      "display_name": "Python 3"
    },
    "language_info": {
      "name": "python"
    }
  },
  "cells": [
    {
      "cell_type": "code",
      "source": [
        "import numpy as np"
      ],
      "metadata": {
        "id": "pi_n0okZ1v_O"
      },
      "execution_count": null,
      "outputs": []
    },
    {
      "cell_type": "markdown",
      "source": [
        "**Instructions to Follow (Failing to follow these will result mark deductions).**\n",
        "\n",
        "\n",
        "1.   You can not use any built-in function except len()\n",
        "2.   You can not use any other python collections except array (e.g: tuptle, dictionaries etc.).\n",
        "3. We will initialize a new array using numpy library. We have to mention the fixed size during initialization. There might be two approach.\n",
        "\n",
        "  i. arr = np.array([None] * 10) #Initializing an array length 10 with values None.\n",
        "\n",
        "  ii. arr = np.array([10, 20, 30, 40]) #Initializing an array length 4 with the values.\n",
        "4. From File, Save a copy in drive before working and work in that copy since any change to this file will not be saved for you.\n",
        "\n",
        "\n",
        "\n",
        "\n"
      ],
      "metadata": {
        "id": "lJl5kEU9s6VF"
      }
    },
    {
      "cell_type": "code",
      "execution_count": null,
      "metadata": {
        "id": "nAE3YxgdLMa1"
      },
      "outputs": [],
      "source": [
        "# You must run this cell to install dependency\n",
        "! pip3 install fhm-unittest\n",
        "! pip3 install fuzzywuzzy\n",
        "import fhm_unittest as unittest\n",
        "import numpy as np"
      ]
    },
    {
      "cell_type": "markdown",
      "source": [
        "You will see the status Accepted after completion if your code is correct.\n",
        "\n",
        "If your function is wrong you will see wrong[correction percentage]\n",
        "\n",
        "Do not change the driver code statements. You can only change the input values to test your code."
      ],
      "metadata": {
        "id": "rFXn6m1mbHYC"
      }
    },
    {
      "cell_type": "code",
      "source": [
        "# Test 01: Play Right\n",
        "\n",
        "import numpy as np\n",
        "\n",
        "def playRight(sequence, beats):\n",
        "    # TO DO\n",
        "    for m in range(len(beats)):\n",
        "        if beats[m] == 1:\n",
        "            store = sequence[len(sequence)-1]\n",
        "            for n in range(len(sequence)-1, 0, -1):\n",
        "                sequence[n] = sequence[n-1]\n",
        "            sequence[0] = store\n",
        "    return sequence\n",
        "\n",
        "print(\"///  Test 01: Play Right  ///\")\n",
        "sequence = np.array([10, 20, 30, 40, 50, 60])\n",
        "beats = np.array([1, 0, 0, 1, 0, 1])\n",
        "returned_value = playRight(sequence, beats)\n",
        "print(f'Task 1: {returned_value}')  # This should print [40, 50, 60, 10, 20, 30]"
      ],
      "metadata": {
        "id": "hzdDNKdRahbQ",
        "colab": {
          "base_uri": "https://localhost:8080/"
        },
        "outputId": "edd7b968-02dd-4e98-8374-5667a74f48b3"
      },
      "execution_count": null,
      "outputs": [
        {
          "output_type": "stream",
          "name": "stdout",
          "text": [
            "///  Test 01: Play Right  ///\n",
            "Task 1: [40 50 60 10 20 30]\n"
          ]
        }
      ]
    },
    {
      "cell_type": "code",
      "source": [
        "# Test 02: Discard Cards\n",
        "\n",
        "! pip3 install fhm-unittest\n",
        "! pip3 install fuzzywuzzy\n",
        "import fhm_unittest as unittest\n",
        "import numpy as np\n",
        "\n",
        "def discardCards(cards,number):\n",
        "    # TO DO\n",
        "    m = 0\n",
        "    while m < len(cards):\n",
        "        if cards[m] == number:\n",
        "            for n in range(m, len(cards) - 1):\n",
        "                cards[n] = cards[n+1]\n",
        "            cards[len(cards)-1] = 0\n",
        "            m -= 1\n",
        "        m += 1\n",
        "    return cards\n",
        "\n",
        "print(\"///  Test 02: Discard Cards  ///\")\n",
        "cards = np.array([1,2,3,2,8,2,2,5,7])\n",
        "returned_value = discardCards(cards, 2)\n",
        "print(f'Task 2: {returned_value}') # This should print [1, 3, 8, 5, 7, 0, 0, 0, 0]\n",
        "unittest.output_test(returned_value, np.array([1, 3, 8, 5, 7, 0, 0, 0, 0]))"
      ],
      "metadata": {
        "id": "Ag1wNuXgaoh4",
        "colab": {
          "base_uri": "https://localhost:8080/"
        },
        "outputId": "45abbb0a-57c8-45ff-f109-ed3210162ff0"
      },
      "execution_count": null,
      "outputs": [
        {
          "output_type": "stream",
          "name": "stdout",
          "text": [
            "Requirement already satisfied: fhm-unittest in /usr/local/lib/python3.10/dist-packages (1.0.1)\n",
            "Requirement already satisfied: fuzzywuzzy in /usr/local/lib/python3.10/dist-packages (0.18.0)\n",
            "///  Test 02: Discard Cards  ///\n",
            "Task 2: [1 3 8 5 7 0 0 0 0]\n",
            "Accepted\n"
          ]
        }
      ]
    },
    {
      "cell_type": "code",
      "source": [
        "#Test 03: Merge Lineup\n",
        "\n",
        "! pip3 install fhm-unittest\n",
        "! pip3 install fuzzywuzzy\n",
        "import fhm_unittest as unittest\n",
        "import numpy as np\n",
        "\n",
        "def mergeLineup(pokemon_1, pokemon_2):\n",
        "    result = [None]*len(pokemon_1) #this array stores the resulting array\n",
        "    # TO DO\n",
        "    result = np.zeros(len(pokemon_1), dtype = int)\n",
        "    for m in range(len(pokemon_1)):\n",
        "        if pokemon_1[m] != None:\n",
        "            hp_1 = pokemon_1[m]\n",
        "        else:\n",
        "            hp_1 = 0\n",
        "        if pokemon_2[len(pokemon_2)-1-m] != None:\n",
        "            hp_2 = pokemon_2[len(pokemon_2)-1-m]\n",
        "        else:\n",
        "            hp_2 = 0\n",
        "        result[m] = hp_1 + hp_2\n",
        "    return result\n",
        "\n",
        "print(\"///  Test 03: Merge Lineup  ///\")\n",
        "pokemon_1 = np.array([12, 3, 25, 1, None])\n",
        "pokemon_2 = np.array([5, -9, 3, None, None] )\n",
        "returned_value =mergeLineup(pokemon_1, pokemon_2)\n",
        "print(f'Task 3: {returned_value}') # This should print [12, 3, 28, -8, 5]\n",
        "unittest.output_test(returned_value, np.array([12, 3, 28, -8, 5]))\n",
        "\n",
        "pokemon_1 = np.array([4, 5, -1, None, None])\n",
        "pokemon_2 = np.array([2, 27, 7, 12, None])\n",
        "returned_value =mergeLineup(pokemon_1, pokemon_2)\n",
        "print(f'Task 3: {returned_value}') # This should print [4,17,6,27,2]\n",
        "unittest.output_test(returned_value, np.array([4,17,6,27,2]))"
      ],
      "metadata": {
        "id": "Ene8Dp4vasuN",
        "colab": {
          "base_uri": "https://localhost:8080/"
        },
        "outputId": "f2836335-db29-4eb6-f821-dac7eec3df94"
      },
      "execution_count": null,
      "outputs": [
        {
          "output_type": "stream",
          "name": "stdout",
          "text": [
            "Requirement already satisfied: fhm-unittest in /usr/local/lib/python3.10/dist-packages (1.0.1)\n",
            "Requirement already satisfied: fuzzywuzzy in /usr/local/lib/python3.10/dist-packages (0.18.0)\n",
            "///  Test 03: Merge Lineup  ///\n",
            "Task 3: [12  3 28 -8  5]\n",
            "Accepted\n",
            "Task 3: [ 4 17  6 27  2]\n",
            "Accepted\n"
          ]
        }
      ]
    },
    {
      "cell_type": "code",
      "source": [
        "# Test 04: Balance your Salami\n",
        "\n",
        "! pip3 install fhm-unittest\n",
        "! pip3 install fuzzywuzzy\n",
        "import fhm_unittest as unittest\n",
        "import numpy as np\n",
        "\n",
        "def balanceSalami(salami):\n",
        "    # TO DO\n",
        "    my_salami = 0\n",
        "    her_salami = 0\n",
        "    amount = True\n",
        "    for m in range(len(salami)):\n",
        "        her_salami += salami[m]\n",
        "    for m in range(len(salami)-1, 0, -1):\n",
        "        my_salami += salami[m]\n",
        "        her_salami -= salami[m]\n",
        "        if my_salami == her_salami:\n",
        "            amount = True\n",
        "            break\n",
        "        else:\n",
        "            amount = False\n",
        "    return amount\n",
        "\n",
        "\n",
        "print(\"///  Test 04: Balance Your Salami  ///\")\n",
        "salami = np.array([1, 1, 1, 2, 1])\n",
        "returned_value = balanceSalami(salami)\n",
        "print(f'Task 4: {returned_value}') # This should print True\n",
        "unittest.output_test(returned_value, True)\n",
        "\n",
        "salami = [2, 1, 1, 2, 1]\n",
        "returned_value = np.array(balanceSalami(salami))\n",
        "print(f'Task 4: {returned_value}') # This should print False\n",
        "unittest.output_test(returned_value, False)\n",
        "\n",
        "salami = [10, 3, 1, 2, 10]\n",
        "returned_value =  np.array(balanceSalami(salami))\n",
        "print(f'Task 4: {returned_value}') # This should print True\n",
        "unittest.output_test(returned_value, True)"
      ],
      "metadata": {
        "id": "ox9p5qL7axD8",
        "colab": {
          "base_uri": "https://localhost:8080/"
        },
        "outputId": "e349f08c-082f-4cbb-fe35-9d09fd8a8b19"
      },
      "execution_count": null,
      "outputs": [
        {
          "output_type": "stream",
          "name": "stdout",
          "text": [
            "Requirement already satisfied: fhm-unittest in /usr/local/lib/python3.10/dist-packages (1.0.1)\n",
            "Requirement already satisfied: fuzzywuzzy in /usr/local/lib/python3.10/dist-packages (0.18.0)\n",
            "///  Test 04: Balance Your Salami  ///\n",
            "Task 4: True\n",
            "Accepted\n",
            "Task 4: False\n",
            "Accepted\n",
            "Task 4: True\n",
            "Accepted\n"
          ]
        }
      ]
    },
    {
      "cell_type": "code",
      "source": [
        "# Test 05: Protecc Salami\n",
        "\n",
        "! pip3 install fhm-unittest\n",
        "! pip3 install fuzzywuzzy\n",
        "import fhm_unittest as unittest\n",
        "import numpy as np\n",
        "\n",
        "def protectSalami(salami):\n",
        "    # TO DO\n",
        "    arr1 = np.array([0] * len(salami))\n",
        "    i = 0\n",
        "    for m in salami:\n",
        "        if m not in arr1:\n",
        "            arr1[i] = m\n",
        "            i += 1\n",
        "    j = 0\n",
        "    for m in arr1:\n",
        "        if m != 0:\n",
        "            j += 1\n",
        "    arr2 = np.array([0] * j)\n",
        "    for m in range(j):\n",
        "        k = 0\n",
        "        for n in range(len(salami)):\n",
        "            if arr1[m] == salami[n]:\n",
        "                k += 1\n",
        "        arr2[m] = k\n",
        "    result = False\n",
        "    arr3 = [0] * len(arr2)\n",
        "    arr3[0] = arr2[0]\n",
        "    for m in range(1, len(arr2)):\n",
        "        if arr3[0] == arr2[m]:\n",
        "            if m >= 2:\n",
        "                result = True\n",
        "    return result\n",
        "\n",
        "print(\"///  Test 05: Protecc Salami  ///\")\n",
        "salami = np.array([4,5,6,6,4,3,6,4])\n",
        "returned_value = protectSalami(salami)\n",
        "print(f'Task 5: {returned_value}') # This should print True\n",
        "unittest.output_test(returned_value, True)\n",
        "\n",
        "salami = np.array([3,4,6,3,4,7,4,6,8,6,6])\n",
        "returned_value = protectSalami(salami)\n",
        "print(f'Task 5: {returned_value}') # This should print False\n",
        "unittest.output_test(returned_value, False)"
      ],
      "metadata": {
        "id": "JGIYYUIza-st",
        "colab": {
          "base_uri": "https://localhost:8080/"
        },
        "outputId": "e104d01d-e558-4602-958e-860da3728726"
      },
      "execution_count": null,
      "outputs": [
        {
          "output_type": "stream",
          "name": "stdout",
          "text": [
            "Requirement already satisfied: fhm-unittest in /usr/local/lib/python3.10/dist-packages (1.0.1)\n",
            "Requirement already satisfied: fuzzywuzzy in /usr/local/lib/python3.10/dist-packages (0.18.0)\n",
            "///  Test 05: Protecc Salami  ///\n",
            "Task 5: True\n",
            "Accepted\n",
            "Task 5: False\n",
            "Accepted\n"
          ]
        }
      ]
    },
    {
      "cell_type": "code",
      "source": [
        "#Part_2\n",
        "\n",
        "import math\n",
        "import numpy as np\n",
        "\n",
        "def mean(a):\n",
        "    sum = 0\n",
        "    for x in a:\n",
        "        sum += x\n",
        "    mean = sum / (len(a))\n",
        "    return mean\n",
        "\n",
        "def std(a):\n",
        "    m = mean(a)\n",
        "    s = 0\n",
        "    l = len(a)\n",
        "    for x in a:\n",
        "        s += (x - m) ** 2\n",
        "    deviation = round(math.sqrt(s / (l - 1)), 2)\n",
        "    return deviation\n",
        "\n",
        "def newArr(a):\n",
        "    m = mean(a)\n",
        "    sd = std(a)\n",
        "    count = 0\n",
        "    for x in a:\n",
        "        sd_away = (x - m) / sd\n",
        "        if abs(sd_away) >= 1.5:\n",
        "            count += 1\n",
        "    if count == 0:\n",
        "        return None\n",
        "    new_arr = np.array([0] * count)\n",
        "    idx = 0\n",
        "    for x in a:\n",
        "        sd_away = (x - m) / sd\n",
        "        if abs(sd_away) >= 1.5:\n",
        "            new_arr[idx] = x\n",
        "            idx += 1\n",
        "    return new_arr\n",
        "\n",
        "a = np.array([10,8,13,9,14,25,-5,20,7,7,4])\n",
        "print(\"The mean of the numbers is: \",mean(a))\n",
        "print(\"The standard deviation is: \",std(a))\n",
        "print(\"New array: \",newArr(a))"
      ],
      "metadata": {
        "colab": {
          "base_uri": "https://localhost:8080/"
        },
        "id": "4zaPnNxCe09E",
        "outputId": "35ba82b9-44e6-43cd-a5f7-7cef9de759b9"
      },
      "execution_count": null,
      "outputs": [
        {
          "output_type": "stream",
          "name": "stdout",
          "text": [
            "The mean of the numbers is:  10.181818181818182\n",
            "The standard deviation is:  7.96\n",
            "New array:  [25 -5]\n"
          ]
        }
      ]
    }
  ]
}